{
 "cells": [
  {
   "cell_type": "code",
   "execution_count": 5,
   "metadata": {},
   "outputs": [],
   "source": [
    "file1 = open(\"chat3.txt\",\"r\",encoding='utf-8')\n",
    "\n",
    "list = []\n",
    "for i in file1:\n",
    "    list.append(i)\n",
    "# a = file1.split()\n",
    "# print(list)\n",
    "# list[:20]\n",
    "list1 = []\n",
    "for x in list:\n",
    "    list1.append(x.replace(\"\\n\", \"\"))\n",
    "#     # print(x[1:-2])\n",
    "#     # list1.append(x[1:-2])\n",
    "# # \n",
    "    \n",
    "# list1[:20]\n",
    "\n",
    "list2 = []\n",
    "for x in list:\n",
    "    list2.append(x[1:-2])\n",
    "    # print(x[1:-2])\n",
    "with open(r'chatnewline.txt','w',encoding='utf-8') as fp:\n",
    "    for i in list2:\n",
    "        fp.write(\"%s\\n\" % i)\n",
    "# list2[:20]\n",
    "\n",
    "# with open(r'chatpara.txt','w',encoding='utf-8') as fp:\n",
    "#     for i in list2:\n",
    "#         fp.write(\"%s \" % i)"
   ]
  }
 ],
 "metadata": {
  "kernelspec": {
   "display_name": "Python 3.9.1 64-bit",
   "language": "python",
   "name": "python3"
  },
  "language_info": {
   "codemirror_mode": {
    "name": "ipython",
    "version": 3
   },
   "file_extension": ".py",
   "mimetype": "text/x-python",
   "name": "python",
   "nbconvert_exporter": "python",
   "pygments_lexer": "ipython3",
   "version": "3.9.1"
  },
  "orig_nbformat": 4,
  "vscode": {
   "interpreter": {
    "hash": "099d2554374d35de099ab6126ff3278baf8f479e9d3e2828af9ef95de1df57df"
   }
  }
 },
 "nbformat": 4,
 "nbformat_minor": 2
}
